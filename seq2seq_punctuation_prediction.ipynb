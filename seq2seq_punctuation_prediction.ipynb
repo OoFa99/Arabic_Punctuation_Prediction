{
  "nbformat": 4,
  "nbformat_minor": 0,
  "metadata": {
    "accelerator": "GPU",
    "colab": {
      "name": "seq2seq punctuation prediction.ipynb",
      "provenance": [],
      "collapsed_sections": [],
      "toc_visible": true
    },
    "kernelspec": {
      "name": "python3",
      "display_name": "Python 3"
    },
    "language_info": {
      "codemirror_mode": {
        "name": "ipython",
        "version": 3
      },
      "file_extension": ".py",
      "mimetype": "text/x-python",
      "name": "python",
      "nbconvert_exporter": "python",
      "pygments_lexer": "ipython3",
      "version": "3.6.9"
    }
  },
  "cells": [
    {
      "cell_type": "markdown",
      "metadata": {
        "id": "XDniUtS-ZSUA",
        "colab_type": "text"
      },
      "source": [
        "This notebook to train sequence to sequence model for Arabic punctuation prediction. This project followed the [Neural Machine Translation]((https://www.tensorflow.org/tutorials/text/nmt_with_attention)) which available from TensorFlow.\n"
      ]
    },
    {
      "cell_type": "markdown",
      "metadata": {
        "id": "k3tpNu5xWvCp",
        "colab_type": "text"
      },
      "source": [
        "### Import necessary libraries\n",
        "\n",
        "\n"
      ]
    },
    {
      "cell_type": "code",
      "metadata": {
        "colab_type": "code",
        "id": "GpdedrlzyueD",
        "colab": {}
      },
      "source": [
        "from __future__ import absolute_import, division, print_function, unicode_literals\n",
        "\n",
        "import tensorflow as tf\n",
        "tf.enable_eager_execution()\n",
        "\n",
        "import matplotlib.pyplot as plt\n",
        "import matplotlib.ticker as ticker\n",
        "from sklearn.utils import shuffle\n",
        "\n",
        "import re\n",
        "import numpy as np\n",
        "import os\n",
        "import time\n",
        "import pandas as pd"
      ],
      "execution_count": 0,
      "outputs": []
    },
    {
      "cell_type": "markdown",
      "metadata": {
        "id": "AgKjDChHXLe7",
        "colab_type": "text"
      },
      "source": [
        "## Prepare data\n",
        "In this step, we convert input and output files to numeric sequence with length 10 as the maximum length."
      ]
    },
    {
      "cell_type": "code",
      "metadata": {
        "colab_type": "code",
        "id": "PWulGtUEyueH",
        "colab": {}
      },
      "source": [
        "def preprocess_sentence(file_name):\n",
        "    '''\n",
        "    DESCRIPTION:\n",
        "    This function to read the file, then add <start> and <end> as a tag in begin and end for each sequence.\n",
        "    INPUT: \n",
        "    file_name: file name\n",
        "    OUTPUT: \n",
        "    text: text after preprocess\n",
        "    ''' \n",
        "    with open(file_name , 'r', encoding='windows-1256') as f:\n",
        "        text = f.readlines()\n",
        "\n",
        "    text = ['<start> '+ t.replace('\\n','') + ' <end>' for t in text]\n",
        "    return text\n",
        "\n",
        "\n",
        "def calculate_max_length(tensor):\n",
        "    '''\n",
        "    DESCRIPTION:\n",
        "    This function to Calculates the max length in tensor\n",
        "    INPUT: \n",
        "    tensor: input tensor\n",
        "    OUTPUT: \n",
        "    _: max length of tensor\n",
        "    ''' \n",
        "    return max(len(t) for t in tensor)\n",
        "\n",
        "def tokenize(text):\n",
        "    '''\n",
        "    DESCRIPTION:\n",
        "    This function to convert inputs to numeric sequences with the maximum length\n",
        "    INPUT: \n",
        "    text: list of string\n",
        "    OUTPUT: \n",
        "    tokenizer: object of converted text into a sequence of integer\n",
        "    text_vector: vector of converted text into a sequence of integer\n",
        "    max_length: max length in text_vector\n",
        "    ''' \n",
        "\n",
        "    # Choose the top 9000 words from the vocabulary\n",
        "    top_k = 9000\n",
        "    tokenizer = tf.keras.preprocessing.text.Tokenizer(num_words=top_k, oov_token=\"<unk>\",filters='')\n",
        "    tokenizer.fit_on_texts(text)\n",
        "    train_seqs = tokenizer.texts_to_sequences(text)\n",
        "\n",
        "    #add a word for padding \n",
        "    tokenizer.word_index['<pad>'] = 0\n",
        "    tokenizer.index_word[0] = '<pad>'\n",
        "\n",
        "    # Create the tokenized vectors\n",
        "    text_seqs = tokenizer.texts_to_sequences(text)\n",
        "\n",
        "    # Pad each vector to the max_length of the vector\n",
        "    text_vector = tf.keras.preprocessing.sequence.pad_sequences(text_seqs, padding='post')\n",
        "\n",
        "    # Calculates the max_length, which is used to store the attention weights\n",
        "    max_length = calculate_max_length(text_seqs)\n",
        "    \n",
        "    return tokenizer, text_vector,max_length"
      ],
      "execution_count": 0,
      "outputs": []
    },
    {
      "cell_type": "code",
      "metadata": {
        "colab_type": "code",
        "id": "EJVB3qG1yueL",
        "colab": {}
      },
      "source": [
        "# prepare input data\n",
        "input = preprocess_sentence('input_punctuation.txt')\n",
        "input_tokenizer, input_tensor ,input_max_length = tokenize(input)"
      ],
      "execution_count": 0,
      "outputs": []
    },
    {
      "cell_type": "code",
      "metadata": {
        "colab_type": "code",
        "id": "XfOxkC0dyueO",
        "colab": {}
      },
      "source": [
        "# prepare output data\n",
        "target = preprocess_sentence('output_punctuation.txt')\n",
        "target_tokenizer, target_tensor ,target_max_length = tokenize(target)"
      ],
      "execution_count": 0,
      "outputs": []
    },
    {
      "cell_type": "code",
      "metadata": {
        "id": "ykixCCr20Hjg",
        "colab_type": "code",
        "colab": {
          "base_uri": "https://localhost:8080/",
          "height": 34
        },
        "outputId": "eb572d5c-3fea-4eed-ff2b-006ef9065814"
      },
      "source": [
        "# data shapes\n",
        "(input_tensor.shape),(target_tensor.shape) "
      ],
      "execution_count": 510,
      "outputs": [
        {
          "output_type": "execute_result",
          "data": {
            "text/plain": [
              "((628500, 12), (628500, 12))"
            ]
          },
          "metadata": {
            "tags": []
          },
          "execution_count": 510
        }
      ]
    },
    {
      "cell_type": "code",
      "metadata": {
        "colab_type": "code",
        "id": "a38_ZKX6yueR",
        "outputId": "c1ae9362-8d52-4ba4-a5cc-3321aea52ede",
        "colab": {
          "base_uri": "https://localhost:8080/",
          "height": 454
        }
      },
      "source": [
        "def convert(tokenizer, tensor):\n",
        "    '''\n",
        "    DESCRIPTION:\n",
        "    This function to convert index to word for input tensor\n",
        "    INPUT: \n",
        "    tokenizer: object of converted text into a sequence of integer\n",
        "    tensor: list of integer\n",
        "    OUTPUT: \n",
        "    None\n",
        "    ''' \n",
        "    for t in tensor:\n",
        "        if t!=0:\n",
        "              print (\"%d ----> %s\" % (t, tokenizer.index_word[t]))\n",
        "    \n",
        "print (\"Input Language; index to word mapping\")\n",
        "convert(input_tokenizer, input_tensor[0])  \n",
        "print (\"Output Language; index to word mapping\")\n",
        "convert(target_tokenizer, target_tensor[0]) "
      ],
      "execution_count": 221,
      "outputs": [
        {
          "output_type": "stream",
          "text": [
            "Input Language; index to word mapping\n",
            "2 ----> <start>\n",
            "2368 ----> تم\n",
            "1 ----> <unk>\n",
            "39 ----> هذا\n",
            "1 ----> <unk>\n",
            "1 ----> <unk>\n",
            "4048 ----> بواسطة\n",
            "1 ----> <unk>\n",
            "1 ----> <unk>\n",
            "512 ----> الكتاب\n",
            "87 ----> شرح\n",
            "3 ----> <end>\n",
            "Output Language; index to word mapping\n",
            "3 ----> <start>\n",
            "2 ----> space\n",
            "2 ----> space\n",
            "2 ----> space\n",
            "2 ----> space\n",
            "2 ----> space\n",
            "2 ----> space\n",
            "2 ----> space\n",
            "2 ----> space\n",
            "7 ----> :\n",
            "2 ----> space\n",
            "4 ----> <end>\n"
          ],
          "name": "stdout"
        }
      ]
    },
    {
      "cell_type": "markdown",
      "metadata": {
        "id": "kZG-cQ4genhn",
        "colab_type": "text"
      },
      "source": [
        "### Data Visualization"
      ]
    },
    {
      "cell_type": "code",
      "metadata": {
        "id": "PkEKybqyNghP",
        "colab_type": "code",
        "colab": {
          "base_uri": "https://localhost:8080/",
          "height": 284
        },
        "outputId": "3ba9aabe-5aae-4980-eccf-a7197ace2e61"
      },
      "source": [
        "target = pd.DataFrame(list(target_tokenizer.word_counts.items())) \n",
        "target"
      ],
      "execution_count": 512,
      "outputs": [
        {
          "output_type": "execute_result",
          "data": {
            "text/html": [
              "<div>\n",
              "<style scoped>\n",
              "    .dataframe tbody tr th:only-of-type {\n",
              "        vertical-align: middle;\n",
              "    }\n",
              "\n",
              "    .dataframe tbody tr th {\n",
              "        vertical-align: top;\n",
              "    }\n",
              "\n",
              "    .dataframe thead th {\n",
              "        text-align: right;\n",
              "    }\n",
              "</style>\n",
              "<table border=\"1\" class=\"dataframe\">\n",
              "  <thead>\n",
              "    <tr style=\"text-align: right;\">\n",
              "      <th></th>\n",
              "      <th>0</th>\n",
              "      <th>1</th>\n",
              "    </tr>\n",
              "  </thead>\n",
              "  <tbody>\n",
              "    <tr>\n",
              "      <th>0</th>\n",
              "      <td>&lt;start&gt;</td>\n",
              "      <td>628500</td>\n",
              "    </tr>\n",
              "    <tr>\n",
              "      <th>1</th>\n",
              "      <td>space</td>\n",
              "      <td>5865615</td>\n",
              "    </tr>\n",
              "    <tr>\n",
              "      <th>2</th>\n",
              "      <td>:</td>\n",
              "      <td>92871</td>\n",
              "    </tr>\n",
              "    <tr>\n",
              "      <th>3</th>\n",
              "      <td>&lt;end&gt;</td>\n",
              "      <td>628500</td>\n",
              "    </tr>\n",
              "    <tr>\n",
              "      <th>4</th>\n",
              "      <td>.</td>\n",
              "      <td>95358</td>\n",
              "    </tr>\n",
              "    <tr>\n",
              "      <th>5</th>\n",
              "      <td>؛</td>\n",
              "      <td>41361</td>\n",
              "    </tr>\n",
              "    <tr>\n",
              "      <th>6</th>\n",
              "      <td>،</td>\n",
              "      <td>187018</td>\n",
              "    </tr>\n",
              "    <tr>\n",
              "      <th>7</th>\n",
              "      <td>؟</td>\n",
              "      <td>2770</td>\n",
              "    </tr>\n",
              "  </tbody>\n",
              "</table>\n",
              "</div>"
            ],
            "text/plain": [
              "         0        1\n",
              "0  <start>   628500\n",
              "1    space  5865615\n",
              "2        :    92871\n",
              "3    <end>   628500\n",
              "4        .    95358\n",
              "5        ؛    41361\n",
              "6        ،   187018\n",
              "7        ؟     2770"
            ]
          },
          "metadata": {
            "tags": []
          },
          "execution_count": 512
        }
      ]
    },
    {
      "cell_type": "code",
      "metadata": {
        "id": "gB1tRvqcKjvW",
        "colab_type": "code",
        "colab": {
          "base_uri": "https://localhost:8080/",
          "height": 282
        },
        "outputId": "8dff923d-4a99-4774-feec-fcc5bac5c9ad"
      },
      "source": [
        "plt.xticks(fontsize =10)\n",
        "plt.bar(target[0],target[1], color=(0.2, 0.4, 0.6, 0.6))"
      ],
      "execution_count": 432,
      "outputs": [
        {
          "output_type": "execute_result",
          "data": {
            "text/plain": [
              "<BarContainer object of 8 artists>"
            ]
          },
          "metadata": {
            "tags": []
          },
          "execution_count": 432
        },
        {
          "output_type": "display_data",
          "data": {
            "image/png": "[encoded data removed]",
            "text/plain": [
              "<Figure size 432x288 with 1 Axes>"
            ]
          },
          "metadata": {
            "tags": []
          }
        }
      ]
    },
    {
      "cell_type": "markdown",
      "metadata": {
        "id": "goYcNYDMe6Fq",
        "colab_type": "text"
      },
      "source": [
        "### Create dataset"
      ]
    },
    {
      "cell_type": "code",
      "metadata": {
        "colab_type": "code",
        "id": "Uv9ycnIeyueW",
        "colab": {}
      },
      "source": [
        "BUFFER_SIZE = len(input_tensor)\n",
        "BATCH_SIZE = 256\n",
        "steps_per_epoch = len(input_tensor)//BATCH_SIZE\n",
        "embedding_dim = 256\n",
        "units = 1024\n",
        "vocab_inp_size = len(input_tokenizer.word_index)+1\n",
        "vocab_tar_size = len(target_tokenizer.word_index)+1\n",
        "\n",
        "# create dataset\n",
        "train_dataset = tf.data.Dataset.from_tensor_slices((input_tensor, target_tensor)).shuffle(BUFFER_SIZE)\n",
        "train_dataset = train_dataset.batch(BATCH_SIZE, drop_remainder=True)"
      ],
      "execution_count": 0,
      "outputs": []
    },
    {
      "cell_type": "code",
      "metadata": {
        "colab_type": "code",
        "id": "K1slax4qyueZ",
        "outputId": "4e7f3b57-2394-40f7-db6a-a59e759c3d16",
        "colab": {
          "base_uri": "https://localhost:8080/",
          "height": 50
        }
      },
      "source": [
        "example_input_batch, example_target_batch = next(iter(train_dataset))\n",
        "example_input_batch.shape, example_target_batch.shape"
      ],
      "execution_count": 224,
      "outputs": [
        {
          "output_type": "execute_result",
          "data": {
            "text/plain": [
              "(TensorShape([Dimension(256), Dimension(12)]),\n",
              " TensorShape([Dimension(256), Dimension(12)]))"
            ]
          },
          "metadata": {
            "tags": []
          },
          "execution_count": 224
        }
      ]
    },
    {
      "cell_type": "markdown",
      "metadata": {
        "id": "NKzsyzvefDo2",
        "colab_type": "text"
      },
      "source": [
        "## Encoder and decoder model\n",
        "\n",
        "In this part of the code, we used the same technique of Neural Machine Translation provided by TensorFlow. However, we used Keras with the backend of TensorFlow. For more details can visit [Neural machine translation with attention tutorial](https://www.tensorflow.org/tutorials/text/nmt_with_attention)."
      ]
    },
    {
      "cell_type": "code",
      "metadata": {
        "colab_type": "code",
        "id": "kEN7CY6lyued",
        "colab": {}
      },
      "source": [
        "class Encoder(tf.keras.Model):\n",
        "    def __init__(self, vocab_size, embedding_dim, enc_units, batch_sz):\n",
        "        super(Encoder, self).__init__()\n",
        "        self.batch_sz = batch_sz\n",
        "        self.enc_units = enc_units\n",
        "        self.embedding = tf.keras.layers.Embedding(vocab_size, embedding_dim)\n",
        "        self.gru = tf.keras.layers.GRU(self.enc_units,\n",
        "                                       return_sequences=True,\n",
        "                                       return_state=True,\n",
        "                                       recurrent_initializer='glorot_uniform')\n",
        "\n",
        "    def call(self, x, hidden):\n",
        "        x = self.embedding(x)\n",
        "        output, state = self.gru(x, initial_state = hidden)\n",
        "        return output, state\n",
        "\n",
        "    def initialize_hidden_state(self):\n",
        "        return tf.zeros((self.batch_sz, self.enc_units))"
      ],
      "execution_count": 0,
      "outputs": []
    },
    {
      "cell_type": "code",
      "metadata": {
        "colab_type": "code",
        "id": "ax5I6Vm8yuef",
        "outputId": "b91c9519-ca3a-4f9e-ed8a-56f64fb57b54",
        "colab": {
          "base_uri": "https://localhost:8080/",
          "height": 50
        }
      },
      "source": [
        "encoder = Encoder(vocab_inp_size, embedding_dim, units, BATCH_SIZE)\n",
        "\n",
        "# sample input\n",
        "sample_hidden = encoder.initialize_hidden_state()\n",
        "sample_output, sample_hidden = encoder(example_input_batch, sample_hidden)\n",
        "print ('Encoder output shape: (batch size, sequence length, units) {}'.format(sample_output.shape))\n",
        "print ('Encoder Hidden state shape: (batch size, units) {}'.format(sample_hidden.shape))"
      ],
      "execution_count": 226,
      "outputs": [
        {
          "output_type": "stream",
          "text": [
            "Encoder output shape: (batch size, sequence length, units) (256, 12, 1024)\n",
            "Encoder Hidden state shape: (batch size, units) (256, 1024)\n"
          ],
          "name": "stdout"
        }
      ]
    },
    {
      "cell_type": "code",
      "metadata": {
        "colab_type": "code",
        "id": "AKd0cO7Yyuei",
        "colab": {}
      },
      "source": [
        "class BahdanauAttention(tf.keras.layers.Layer):\n",
        "    def __init__(self, units):\n",
        "        super(BahdanauAttention, self).__init__()\n",
        "        self.W1 = tf.keras.layers.Dense(units)\n",
        "        self.W2 = tf.keras.layers.Dense(units)\n",
        "        self.V = tf.keras.layers.Dense(1)\n",
        "\n",
        "    def call(self, query, values):\n",
        "        # hidden shape == (batch_size, hidden size)\n",
        "        # hidden_with_time_axis shape == (batch_size, 1, hidden size)\n",
        "        # we are doing this to perform addition to calculate the score\n",
        "        hidden_with_time_axis = tf.expand_dims(query, 1)\n",
        "\n",
        "        # score shape == (batch_size, max_length, 1)\n",
        "        # we get 1 at the last axis because we are applying score to self.V\n",
        "        # the shape of the tensor before applying self.V is (batch_size, max_length, units)\n",
        "        score = self.V(tf.keras.layers.Activation(activation = \"tanh\")(tf.keras.layers.Add()([self.W1(values), self.W2(hidden_with_time_axis)])))    \n",
        "\n",
        "        # attention_weights shape == (batch_size, max_length, 1)\n",
        "        attention_weights = tf.keras.layers.Activation(activation = \"softmax\")(tf.keras.layers.Permute((2, 1))(score))\n",
        "        attention_weights = tf.keras.layers.Permute((2, 1))(attention_weights)\n",
        "\n",
        "        # context_vector shape after sum == (batch_size, hidden_size)\n",
        "        context_vector = tf.keras.layers.Multiply()([attention_weights, values])\n",
        "\n",
        "        context_vector = tf.reduce_sum(context_vector, axis=1)\n",
        "\n",
        "        return context_vector, attention_weights"
      ],
      "execution_count": 0,
      "outputs": []
    },
    {
      "cell_type": "code",
      "metadata": {
        "colab_type": "code",
        "id": "2-rHOcxGyuem",
        "outputId": "d9b67924-3d0a-4ed1-e473-ea9fbfa8a5d4",
        "colab": {
          "base_uri": "https://localhost:8080/",
          "height": 50
        }
      },
      "source": [
        "attention_layer = BahdanauAttention(10)\n",
        "attention_result, attention_weights = attention_layer(sample_hidden, sample_output)\n",
        "\n",
        "print(\"Attention result shape: (batch size, units) {}\".format(attention_result.shape))\n",
        "print(\"Attention weights shape: (batch_size, sequence_length, 1) {}\".format(attention_weights.shape))"
      ],
      "execution_count": 228,
      "outputs": [
        {
          "output_type": "stream",
          "text": [
            "Attention result shape: (batch size, units) (256, 1024)\n",
            "Attention weights shape: (batch_size, sequence_length, 1) (256, 12, 1)\n"
          ],
          "name": "stdout"
        }
      ]
    },
    {
      "cell_type": "code",
      "metadata": {
        "colab_type": "code",
        "id": "IjCsCYq_yuep",
        "colab": {}
      },
      "source": [
        "class Decoder(tf.keras.Model):\n",
        "    def __init__(self, vocab_size, embedding_dim, dec_units, batch_sz):\n",
        "        super(Decoder, self).__init__()\n",
        "        self.batch_sz = batch_sz\n",
        "        self.dec_units = dec_units\n",
        "        self.embedding = tf.keras.layers.Embedding(vocab_size, embedding_dim)\n",
        "        self.gru = tf.keras.layers.GRU(self.dec_units,\n",
        "                                       return_sequences=True,\n",
        "                                       return_state=True,\n",
        "                                       recurrent_initializer='glorot_uniform')\n",
        "        self.fc = tf.keras.layers.Dense(vocab_size)\n",
        "\n",
        "        # used for attention\n",
        "        self.attention = BahdanauAttention(self.dec_units)\n",
        "\n",
        "    def call(self, x, hidden, enc_output):\n",
        "        # enc_output shape == (batch_size, max_length, hidden_size)\n",
        "        context_vector, attention_weights = self.attention(hidden, enc_output)\n",
        "\n",
        "        # x shape after passing through embedding == (batch_size, 1, embedding_dim)\n",
        "        x = self.embedding(x)\n",
        "\n",
        "        # x shape after concatenation == (batch_size, 1, embedding_dim + hidden_size)\n",
        "        x = tf.keras.layers.Concatenate(axis = -1)([tf.expand_dims(context_vector, 1), x])\n",
        "\n",
        "        # passing the concatenated vector to the GRU\n",
        "        output, state = self.gru(x)\n",
        "\n",
        "        #output = tf.keras.layers.Dense(self.dec_units)(output)\n",
        "        # output shape == (batch_size * 1, hidden_size)\n",
        "        output = tf.keras.layers.Reshape((output.shape[2],))(output)\n",
        "\n",
        "        # output shape == (batch_size, vocab)\n",
        "        x = self.fc(output)\n",
        "\n",
        "        return x, state, attention_weights"
      ],
      "execution_count": 0,
      "outputs": []
    },
    {
      "cell_type": "code",
      "metadata": {
        "colab_type": "code",
        "id": "ehFo4Zq7yuer",
        "outputId": "5a92be09-fe8c-4ef2-c555-bafc074f27cb",
        "colab": {
          "base_uri": "https://localhost:8080/",
          "height": 34
        }
      },
      "source": [
        "decoder = Decoder(vocab_tar_size, embedding_dim, units, BATCH_SIZE)\n",
        "\n",
        "sample_decoder_output, _, _ = decoder(tf.random.uniform((BATCH_SIZE, 1)),\n",
        "                                      sample_hidden, sample_output)\n",
        "\n",
        "print ('Decoder output shape: (batch_size, vocab size) {}'.format(sample_decoder_output.shape))"
      ],
      "execution_count": 240,
      "outputs": [
        {
          "output_type": "stream",
          "text": [
            "Decoder output shape: (batch_size, vocab size) (256, 11)\n"
          ],
          "name": "stdout"
        }
      ]
    },
    {
      "cell_type": "markdown",
      "metadata": {
        "id": "PcB91mNxg3L_",
        "colab_type": "text"
      },
      "source": [
        "### Optimizer and loss function"
      ]
    },
    {
      "cell_type": "code",
      "metadata": {
        "colab_type": "code",
        "id": "4ib4lh5Hyueu",
        "colab": {}
      },
      "source": [
        "optimizer = tf.keras.optimizers.Adam()\n",
        "loss_object = tf.keras.losses.SparseCategoricalCrossentropy(\n",
        "    from_logits=True, reduction='none')\n",
        "\n",
        "def loss_function(real, pred):\n",
        "    mask = tf.math.logical_not(tf.math.equal(real, 0))\n",
        "    loss_ = loss_object(real, pred)\n",
        "\n",
        "    mask = tf.cast(mask, dtype=loss_.dtype)\n",
        "    loss_ *= mask\n",
        "\n",
        "    return tf.reduce_mean(loss_)\n"
      ],
      "execution_count": 0,
      "outputs": []
    },
    {
      "cell_type": "code",
      "metadata": {
        "colab_type": "code",
        "id": "8pl0Bj4hyuew",
        "colab": {}
      },
      "source": [
        "checkpoint_dir = './training_checkpoints'\n",
        "checkpoint_prefix = os.path.join(checkpoint_dir, \"ckpt\")\n",
        "checkpoint = tf.train.Checkpoint(optimizer=optimizer,\n",
        "                                 encoder=encoder,\n",
        "                                 decoder=decoder)"
      ],
      "execution_count": 0,
      "outputs": []
    },
    {
      "cell_type": "markdown",
      "metadata": {
        "id": "Df6rittahBG-",
        "colab_type": "text"
      },
      "source": [
        "### Train"
      ]
    },
    {
      "cell_type": "code",
      "metadata": {
        "colab_type": "code",
        "id": "J8XDHnUQyue0",
        "colab": {}
      },
      "source": [
        "@tf.function\n",
        "def train_step(inp, targ, enc_hidden):\n",
        "    '''\n",
        "    DESCRIPTION:\n",
        "    This function to train encode-decode model\n",
        "    INPUT: \n",
        "    inp: input vector\n",
        "    targ: target vector\n",
        "    enc_hidden: encoder initial hidden state\n",
        "    OUTPUT: \n",
        "    batch_loss: train loss\n",
        "    ''' \n",
        "\n",
        "    loss = 0\n",
        "\n",
        "    with tf.GradientTape() as tape:\n",
        "        enc_output, enc_hidden = encoder(inp, enc_hidden)\n",
        "\n",
        "        dec_hidden = enc_hidden\n",
        "\n",
        "        dec_input = tf.expand_dims([target_tokenizer.word_index['<start>']] * BATCH_SIZE, 1)\n",
        "\n",
        "        # Teacher forcing - feeding the target as the next input\n",
        "        for t in range(1, targ.shape[1]):\n",
        "          # passing enc_output to the decoder\n",
        "          predictions, dec_hidden, _ = decoder(dec_input, dec_hidden, enc_output)\n",
        "\n",
        "          loss += loss_function(targ[:, t], predictions)\n",
        "\n",
        "          # using teacher forcing\n",
        "          dec_input = tf.expand_dims(targ[:, t], 1)\n",
        "\n",
        "    batch_loss = (loss / int(targ.shape[1]))\n",
        "\n",
        "    variables = encoder.trainable_variables + decoder.trainable_variables\n",
        "\n",
        "    gradients = tape.gradient(loss, variables)\n",
        "\n",
        "    optimizer.apply_gradients(zip(gradients, variables))\n",
        "\n",
        "    return batch_loss\n"
      ],
      "execution_count": 0,
      "outputs": []
    },
    {
      "cell_type": "code",
      "metadata": {
        "id": "3wA2-LY_A-xt",
        "colab_type": "code",
        "colab": {
          "base_uri": "https://localhost:8080/",
          "height": 1000
        },
        "outputId": "1374c183-b9be-4823-b710-fead6b001a86"
      },
      "source": [
        "EPOCHS = 10\n",
        "\n",
        "for epoch in range(EPOCHS):\n",
        "  start = time.time()\n",
        "\n",
        "  enc_hidden = encoder.initialize_hidden_state()\n",
        "  total_loss = 0\n",
        "\n",
        "  for (batch, (inp, targ)) in enumerate(train_dataset.take(steps_per_epoch)):\n",
        "    batch_loss = train_step(inp, targ, enc_hidden)\n",
        "    total_loss += batch_loss\n",
        "\n",
        "    if batch % 100 == 0:\n",
        "      print('Epoch {} Batch {} Loss {:.4f}'.format(epoch + 1,\n",
        "                                                   batch,\n",
        "                                                   batch_loss.numpy()))\n",
        "  # saving (checkpoint) the model every 2 epochs\n",
        "  if (epoch + 1) % 2 == 0:\n",
        "    checkpoint.save(file_prefix = checkpoint_prefix)\n",
        "\n",
        "  print('Epoch {} Loss {:.4f}'.format(epoch + 1,\n",
        "                                      total_loss / steps_per_epoch))\n",
        "  print('Time taken for 1 epoch {} sec\\n'.format(time.time() - start))"
      ],
      "execution_count": 244,
      "outputs": [
        {
          "output_type": "stream",
          "text": [
            "Epoch 1 Batch 0 Loss 2.2024\n",
            "Epoch 1 Batch 100 Loss 0.5358\n",
            "Epoch 1 Batch 200 Loss 0.5134\n",
            "Epoch 1 Batch 300 Loss 0.5058\n",
            "Epoch 1 Batch 400 Loss 0.4831\n",
            "Epoch 1 Batch 500 Loss 0.4823\n",
            "Epoch 1 Batch 600 Loss 0.4879\n",
            "Epoch 1 Batch 700 Loss 0.4299\n",
            "Epoch 1 Batch 800 Loss 0.4163\n",
            "Epoch 1 Batch 900 Loss 0.3736\n",
            "Epoch 1 Batch 1000 Loss 0.2317\n",
            "Epoch 1 Batch 1100 Loss 0.1912\n",
            "Epoch 1 Batch 1200 Loss 0.1542\n",
            "Epoch 1 Batch 1300 Loss 0.1290\n",
            "Epoch 1 Batch 1400 Loss 0.1254\n",
            "Epoch 1 Batch 1500 Loss 0.1616\n",
            "Epoch 1 Batch 1600 Loss 0.1669\n",
            "Epoch 1 Batch 1700 Loss 0.4251\n",
            "Epoch 1 Batch 1800 Loss 0.4228\n",
            "Epoch 1 Batch 1900 Loss 0.1847\n",
            "Epoch 1 Batch 2000 Loss 0.1584\n",
            "Epoch 1 Batch 2100 Loss 0.1351\n",
            "Epoch 1 Batch 2200 Loss 0.1359\n",
            "Epoch 1 Batch 2300 Loss 0.4841\n",
            "Epoch 1 Batch 2400 Loss 0.4762\n",
            "Epoch 1 Loss 0.3359\n",
            "Time taken for 1 epoch 1180.6459941864014 sec\n",
            "\n",
            "Epoch 2 Batch 0 Loss 0.4603\n",
            "Epoch 2 Batch 100 Loss 0.4961\n",
            "Epoch 2 Batch 200 Loss 0.3089\n",
            "Epoch 2 Batch 300 Loss 0.1461\n",
            "Epoch 2 Batch 400 Loss 0.1429\n",
            "Epoch 2 Batch 500 Loss 0.1557\n",
            "Epoch 2 Batch 600 Loss 0.5531\n",
            "Epoch 2 Batch 700 Loss 0.5135\n",
            "Epoch 2 Batch 800 Loss 0.4721\n",
            "Epoch 2 Batch 900 Loss 0.5182\n",
            "Epoch 2 Batch 1000 Loss 0.2640\n",
            "Epoch 2 Batch 1100 Loss 0.5230\n",
            "Epoch 2 Batch 1200 Loss 0.3047\n",
            "Epoch 2 Batch 1300 Loss 0.3803\n",
            "Epoch 2 Batch 1400 Loss 0.1588\n",
            "Epoch 2 Batch 1500 Loss 0.1659\n",
            "Epoch 2 Batch 1600 Loss 0.1647\n",
            "Epoch 2 Batch 1700 Loss 0.1318\n",
            "Epoch 2 Batch 1800 Loss 0.5022\n",
            "Epoch 2 Batch 1900 Loss 0.4681\n",
            "Epoch 2 Batch 2000 Loss 0.2305\n",
            "Epoch 2 Batch 2100 Loss 0.1364\n",
            "Epoch 2 Batch 2200 Loss 0.1322\n",
            "Epoch 2 Batch 2300 Loss 0.1489\n",
            "Epoch 2 Batch 2400 Loss 0.1433\n",
            "Epoch 2 Loss 0.2998\n",
            "Time taken for 1 epoch 1151.6674664020538 sec\n",
            "\n",
            "Epoch 3 Batch 0 Loss 0.1461\n",
            "Epoch 3 Batch 100 Loss 0.1400\n",
            "Epoch 3 Batch 200 Loss 0.2134\n",
            "Epoch 3 Batch 300 Loss 0.2771\n",
            "Epoch 3 Batch 400 Loss 0.1381\n",
            "Epoch 3 Batch 500 Loss 0.1385\n",
            "Epoch 3 Batch 600 Loss 0.2567\n",
            "Epoch 3 Batch 700 Loss 0.1340\n",
            "Epoch 3 Batch 800 Loss 0.1546\n",
            "Epoch 3 Batch 900 Loss 0.1473\n",
            "Epoch 3 Batch 1000 Loss 0.1293\n",
            "Epoch 3 Batch 1100 Loss 0.1607\n",
            "Epoch 3 Batch 1200 Loss 0.1372\n",
            "Epoch 3 Batch 1300 Loss 0.1163\n",
            "Epoch 3 Batch 1400 Loss 0.5083\n",
            "Epoch 3 Batch 1500 Loss 0.4989\n",
            "Epoch 3 Batch 1600 Loss 0.4925\n",
            "Epoch 3 Batch 1700 Loss 0.3468\n",
            "Epoch 3 Batch 1800 Loss 0.4830\n",
            "Epoch 3 Batch 1900 Loss 0.1942\n",
            "Epoch 3 Batch 2000 Loss 0.1588\n",
            "Epoch 3 Batch 2100 Loss 0.1335\n",
            "Epoch 3 Batch 2200 Loss 0.1309\n",
            "Epoch 3 Batch 2300 Loss 0.1443\n",
            "Epoch 3 Batch 2400 Loss 0.1413\n",
            "Epoch 3 Loss 0.2289\n",
            "Time taken for 1 epoch 1150.04203748703 sec\n",
            "\n",
            "Epoch 4 Batch 0 Loss 0.1443\n",
            "Epoch 4 Batch 100 Loss 0.1621\n",
            "Epoch 4 Batch 200 Loss 0.1409\n",
            "Epoch 4 Batch 300 Loss 0.1333\n",
            "Epoch 4 Batch 400 Loss 0.1297\n",
            "Epoch 4 Batch 500 Loss 0.1323\n",
            "Epoch 4 Batch 600 Loss 0.1450\n",
            "Epoch 4 Batch 700 Loss 0.1277\n",
            "Epoch 4 Batch 800 Loss 0.1489\n",
            "Epoch 4 Batch 900 Loss 0.1456\n",
            "Epoch 4 Batch 1000 Loss 0.1267\n",
            "Epoch 4 Batch 1100 Loss 0.1572\n",
            "Epoch 4 Batch 1200 Loss 0.1335\n",
            "Epoch 4 Batch 1300 Loss 0.1156\n",
            "Epoch 4 Batch 1400 Loss 0.1839\n",
            "Epoch 4 Batch 1500 Loss 0.1554\n",
            "Epoch 4 Batch 1600 Loss 0.1543\n",
            "Epoch 4 Batch 1700 Loss 0.1302\n",
            "Epoch 4 Batch 1800 Loss 0.1292\n",
            "Epoch 4 Batch 1900 Loss 0.1523\n",
            "Epoch 4 Batch 2000 Loss 0.1391\n",
            "Epoch 4 Batch 2100 Loss 0.1255\n",
            "Epoch 4 Batch 2200 Loss 0.1286\n",
            "Epoch 4 Batch 2300 Loss 0.1380\n",
            "Epoch 4 Batch 2400 Loss 0.1357\n",
            "Epoch 4 Loss 0.1421\n",
            "Time taken for 1 epoch 1150.3518314361572 sec\n",
            "\n",
            "Epoch 5 Batch 0 Loss 0.1371\n",
            "Epoch 5 Batch 100 Loss 0.1357\n",
            "Epoch 5 Batch 200 Loss 0.1352\n",
            "Epoch 5 Batch 300 Loss 0.1299\n",
            "Epoch 5 Batch 400 Loss 0.1260\n",
            "Epoch 5 Batch 500 Loss 0.1287\n",
            "Epoch 5 Batch 600 Loss 0.1416\n",
            "Epoch 5 Batch 700 Loss 0.1239\n",
            "Epoch 5 Batch 800 Loss 0.1446\n",
            "Epoch 5 Batch 900 Loss 0.1432\n",
            "Epoch 5 Batch 1000 Loss 0.3703\n",
            "Epoch 5 Batch 1100 Loss 0.1699\n",
            "Epoch 5 Batch 1200 Loss 0.1368\n",
            "Epoch 5 Batch 1300 Loss 0.1152\n",
            "Epoch 5 Batch 1400 Loss 0.1211\n",
            "Epoch 5 Batch 1500 Loss 0.1507\n",
            "Epoch 5 Batch 1600 Loss 0.1517\n",
            "Epoch 5 Batch 1700 Loss 0.1286\n",
            "Epoch 5 Batch 1800 Loss 0.1286\n",
            "Epoch 5 Batch 1900 Loss 0.1337\n",
            "Epoch 5 Batch 2000 Loss 0.1371\n",
            "Epoch 5 Batch 2100 Loss 0.1229\n",
            "Epoch 5 Batch 2200 Loss 0.1261\n",
            "Epoch 5 Batch 2300 Loss 0.1363\n",
            "Epoch 5 Batch 2400 Loss 0.1317\n",
            "Epoch 5 Loss 0.1462\n",
            "Time taken for 1 epoch 1145.7994616031647 sec\n",
            "\n",
            "Epoch 6 Batch 0 Loss 0.1355\n",
            "Epoch 6 Batch 100 Loss 0.1327\n",
            "Epoch 6 Batch 200 Loss 0.1338\n",
            "Epoch 6 Batch 300 Loss 0.1290\n",
            "Epoch 6 Batch 400 Loss 0.3524\n",
            "Epoch 6 Batch 500 Loss 0.3564\n",
            "Epoch 6 Batch 600 Loss 0.1466\n",
            "Epoch 6 Batch 700 Loss 0.1266\n",
            "Epoch 6 Batch 800 Loss 0.1456\n",
            "Epoch 6 Batch 900 Loss 0.2993\n",
            "Epoch 6 Batch 1000 Loss 0.1302\n",
            "Epoch 6 Batch 1100 Loss 0.1576\n",
            "Epoch 6 Batch 1200 Loss 0.1715\n",
            "Epoch 6 Batch 1300 Loss 0.1280\n",
            "Epoch 6 Batch 1400 Loss 0.1192\n",
            "Epoch 6 Batch 1500 Loss 0.1529\n",
            "Epoch 6 Batch 1600 Loss 0.1519\n",
            "Epoch 6 Batch 1700 Loss 0.1275\n",
            "Epoch 6 Batch 1800 Loss 0.1260\n",
            "Epoch 6 Batch 1900 Loss 0.1343\n",
            "Epoch 6 Batch 2000 Loss 0.1342\n",
            "Epoch 6 Batch 2100 Loss 0.1216\n",
            "Epoch 6 Batch 2200 Loss 0.1234\n",
            "Epoch 6 Batch 2300 Loss 0.1338\n",
            "Epoch 6 Batch 2400 Loss 0.1279\n",
            "Epoch 6 Loss 0.1691\n",
            "Time taken for 1 epoch 1147.9241325855255 sec\n",
            "\n",
            "Epoch 7 Batch 0 Loss 0.1341\n",
            "Epoch 7 Batch 100 Loss 0.1318\n",
            "Epoch 7 Batch 200 Loss 0.1328\n",
            "Epoch 7 Batch 300 Loss 0.1266\n",
            "Epoch 7 Batch 400 Loss 0.1245\n",
            "Epoch 7 Batch 500 Loss 0.1478\n",
            "Epoch 7 Batch 600 Loss 0.1404\n",
            "Epoch 7 Batch 700 Loss 0.1262\n",
            "Epoch 7 Batch 800 Loss 0.1422\n",
            "Epoch 7 Batch 900 Loss 0.1367\n",
            "Epoch 7 Batch 1000 Loss 0.1240\n",
            "Epoch 7 Batch 1100 Loss 0.1499\n",
            "Epoch 7 Batch 1200 Loss 0.1290\n",
            "Epoch 7 Batch 1300 Loss 0.1115\n",
            "Epoch 7 Batch 1400 Loss 0.1118\n",
            "Epoch 7 Batch 1500 Loss 0.1464\n",
            "Epoch 7 Batch 1600 Loss 0.1465\n",
            "Epoch 7 Batch 1700 Loss 0.1249\n",
            "Epoch 7 Batch 1800 Loss 0.1234\n",
            "Epoch 7 Batch 1900 Loss 0.1293\n",
            "Epoch 7 Batch 2000 Loss 0.1335\n",
            "Epoch 7 Batch 2100 Loss 0.1174\n",
            "Epoch 7 Batch 2200 Loss 0.1211\n",
            "Epoch 7 Batch 2300 Loss 0.3789\n",
            "Epoch 7 Batch 2400 Loss 0.2104\n",
            "Epoch 7 Loss 0.1513\n",
            "Time taken for 1 epoch 1147.0179541110992 sec\n",
            "\n",
            "Epoch 8 Batch 0 Loss 0.1500\n",
            "Epoch 8 Batch 100 Loss 0.1346\n",
            "Epoch 8 Batch 200 Loss 0.1302\n",
            "Epoch 8 Batch 300 Loss 0.1230\n",
            "Epoch 8 Batch 400 Loss 0.1221\n",
            "Epoch 8 Batch 500 Loss 0.1319\n",
            "Epoch 8 Batch 600 Loss 0.1327\n",
            "Epoch 8 Batch 700 Loss 0.1243\n",
            "Epoch 8 Batch 800 Loss 0.1381\n",
            "Epoch 8 Batch 900 Loss 0.1346\n",
            "Epoch 8 Batch 1000 Loss 0.1215\n",
            "Epoch 8 Batch 1100 Loss 0.1504\n",
            "Epoch 8 Batch 1200 Loss 0.1280\n",
            "Epoch 8 Batch 1300 Loss 0.1087\n",
            "Epoch 8 Batch 1400 Loss 0.1114\n",
            "Epoch 8 Batch 1500 Loss 0.1442\n",
            "Epoch 8 Batch 1600 Loss 0.1428\n",
            "Epoch 8 Batch 1700 Loss 0.1242\n",
            "Epoch 8 Batch 1800 Loss 0.1211\n",
            "Epoch 8 Batch 1900 Loss 0.1247\n",
            "Epoch 8 Batch 2000 Loss 0.1307\n",
            "Epoch 8 Batch 2100 Loss 0.1153\n",
            "Epoch 8 Batch 2200 Loss 0.1171\n",
            "Epoch 8 Batch 2300 Loss 0.1281\n",
            "Epoch 8 Batch 2400 Loss 0.1241\n",
            "Epoch 8 Loss 0.1279\n",
            "Time taken for 1 epoch 1151.0571682453156 sec\n",
            "\n",
            "Epoch 9 Batch 0 Loss 0.1302\n",
            "Epoch 9 Batch 100 Loss 0.1261\n",
            "Epoch 9 Batch 200 Loss 0.1261\n",
            "Epoch 9 Batch 300 Loss 0.1282\n",
            "Epoch 9 Batch 400 Loss 0.1163\n",
            "Epoch 9 Batch 500 Loss 0.1269\n",
            "Epoch 9 Batch 600 Loss 0.1286\n",
            "Epoch 9 Batch 700 Loss 0.1245\n",
            "Epoch 9 Batch 800 Loss 0.1329\n",
            "Epoch 9 Batch 900 Loss 0.1332\n",
            "Epoch 9 Batch 1000 Loss 0.1267\n",
            "Epoch 9 Batch 1100 Loss 0.3060\n",
            "Epoch 9 Batch 1200 Loss 0.1262\n",
            "Epoch 9 Batch 1300 Loss 0.1095\n",
            "Epoch 9 Batch 1400 Loss 0.1107\n",
            "Epoch 9 Batch 1500 Loss 0.1445\n",
            "Epoch 9 Batch 1600 Loss 0.1434\n",
            "Epoch 9 Batch 1700 Loss 0.1222\n",
            "Epoch 9 Batch 1800 Loss 0.1215\n",
            "Epoch 9 Batch 1900 Loss 0.1237\n",
            "Epoch 9 Batch 2000 Loss 0.1314\n",
            "Epoch 9 Batch 2100 Loss 0.1116\n",
            "Epoch 9 Batch 2200 Loss 0.1141\n",
            "Epoch 9 Batch 2300 Loss 0.1255\n",
            "Epoch 9 Batch 2400 Loss 0.4515\n",
            "Epoch 9 Loss 0.1569\n",
            "Time taken for 1 epoch 1150.1276350021362 sec\n",
            "\n",
            "Epoch 10 Batch 0 Loss 0.4091\n",
            "Epoch 10 Batch 100 Loss 0.2484\n",
            "Epoch 10 Batch 200 Loss 0.1915\n",
            "Epoch 10 Batch 300 Loss 0.1583\n",
            "Epoch 10 Batch 400 Loss 0.1432\n",
            "Epoch 10 Batch 500 Loss 0.1424\n",
            "Epoch 10 Batch 600 Loss 0.1500\n",
            "Epoch 10 Batch 700 Loss 0.1330\n",
            "Epoch 10 Batch 800 Loss 0.1434\n",
            "Epoch 10 Batch 900 Loss 0.1442\n",
            "Epoch 10 Batch 1000 Loss 0.1252\n",
            "Epoch 10 Batch 1100 Loss 0.1540\n",
            "Epoch 10 Batch 1200 Loss 0.1278\n",
            "Epoch 10 Batch 1300 Loss 0.1127\n",
            "Epoch 10 Batch 1400 Loss 0.1139\n",
            "Epoch 10 Batch 1500 Loss 0.1455\n",
            "Epoch 10 Batch 1600 Loss 0.1451\n",
            "Epoch 10 Batch 1700 Loss 0.1242\n",
            "Epoch 10 Batch 1800 Loss 0.1234\n",
            "Epoch 10 Batch 1900 Loss 0.3803\n",
            "Epoch 10 Batch 2000 Loss 0.3950\n",
            "Epoch 10 Batch 2100 Loss 0.3271\n",
            "Epoch 10 Batch 2200 Loss 0.1844\n",
            "Epoch 10 Batch 2300 Loss 0.1689\n",
            "Epoch 10 Batch 2400 Loss 0.1684\n",
            "Epoch 10 Loss 0.1844\n",
            "Time taken for 1 epoch 1154.2842366695404 sec\n",
            "\n"
          ],
          "name": "stdout"
        }
      ]
    },
    {
      "cell_type": "markdown",
      "metadata": {
        "id": "pgfHSUhgiETN",
        "colab_type": "text"
      },
      "source": [
        "### Predict"
      ]
    },
    {
      "cell_type": "code",
      "metadata": {
        "colab_type": "code",
        "id": "qIT8TVVpyue7",
        "colab": {}
      },
      "source": [
        "def evaluate(sentence):\n",
        "    '''\n",
        "    DESCRIPTION:\n",
        "    This function to predict result\n",
        "    INPUT: \n",
        "    sentence: input sentence \n",
        "    OUTPUT: \n",
        "    result: predict result\n",
        "    sentence: input sentence \n",
        "    attention_plot: attention weights\n",
        "    ''' \n",
        "\n",
        "  attention_plot = np.zeros((target_max_length, input_max_length))\n",
        "\n",
        "  #sentence = preprocess_sentence(sentence)\n",
        "  sentence = sentence + ' <end>'\n",
        "  inputs = [input_tokenizer.texts_to_sequences([i])[0][0] for i in sentence.split(' ')]\n",
        "  inputs = tf.keras.preprocessing.sequence.pad_sequences([inputs],\n",
        "                                                         maxlen=input_max_length,\n",
        "                                                         padding='post')\n",
        "  inputs = tf.convert_to_tensor(inputs)\n",
        "\n",
        "  result = ''\n",
        "\n",
        "  hidden = [tf.zeros((1, units))]\n",
        "  enc_out, enc_hidden = encoder(inputs, hidden)\n",
        "\n",
        "  dec_hidden = enc_hidden\n",
        "  dec_input = tf.expand_dims([target_tokenizer.word_index['<start>']], 0)\n",
        "\n",
        "  for t in range(target_max_length):\n",
        "    predictions, dec_hidden, attention_weights = decoder(dec_input,\n",
        "                                                         dec_hidden,\n",
        "                                                         enc_out)\n",
        "\n",
        "    # storing the attention weights to plot later on\n",
        "    attention_weights = tf.reshape(attention_weights, (-1, ))\n",
        "    attention_plot[t] = attention_weights.numpy()\n",
        "\n",
        "    predicted_id = tf.argmax(predictions[0]).numpy()\n",
        "\n",
        "    result += target_tokenizer.index_word[predicted_id] + ' '\n",
        "\n",
        "    if target_tokenizer.index_word[predicted_id] == '<end>':\n",
        "      return result, sentence, attention_plot\n",
        "\n",
        "    # the predicted ID is fed back into the model\n",
        "    dec_input = tf.expand_dims([predicted_id], 0)\n",
        "\n",
        "  return result, sentence, attention_plot"
      ],
      "execution_count": 0,
      "outputs": []
    },
    {
      "cell_type": "code",
      "metadata": {
        "colab_type": "code",
        "id": "C7J0Y5qoyue9",
        "colab": {}
      },
      "source": [
        ""
      ],
      "execution_count": 0,
      "outputs": []
    },
    {
      "cell_type": "code",
      "metadata": {
        "colab_type": "code",
        "id": "wSpX2iMB3Gfl",
        "colab": {}
      },
      "source": [
        "# function for plotting the attention weights\n",
        "def plot_attention(attention, sentence, predicted_sentence):\n",
        "  '''\n",
        "    DESCRIPTION:\n",
        "    This function to plot attention \n",
        "    INPUT: \n",
        "    attention: attention weights\n",
        "    sentence: input sentence \n",
        "    predicted_sentence: predict result\n",
        "\n",
        "    OUTPUT: \n",
        "    None\n",
        "    ''' \n",
        "  fig = plt.figure(figsize=(10,10))\n",
        "  ax = fig.add_subplot(1, 1, 1)\n",
        "  ax.matshow(attention, cmap='viridis')\n",
        "\n",
        "  fontdict = {'fontsize': 14}\n",
        "\n",
        "  ax.set_xticklabels([''] + sentence, fontdict=fontdict, rotation=90)\n",
        "  ax.set_yticklabels([''] + predicted_sentence, fontdict=fontdict)\n",
        "\n",
        "  ax.xaxis.set_major_locator(ticker.MultipleLocator(1))\n",
        "  ax.yaxis.set_major_locator(ticker.MultipleLocator(1))\n",
        "\n",
        "  plt.show()"
      ],
      "execution_count": 0,
      "outputs": []
    },
    {
      "cell_type": "code",
      "metadata": {
        "colab_type": "code",
        "id": "EX-v514W3GlB",
        "colab": {}
      },
      "source": [
        "def predict(sentence):\n",
        "    '''\n",
        "    DESCRIPTION:\n",
        "    This function to predict output sentence\n",
        "\n",
        "    INPUT: \n",
        "    sentence: input sentence \n",
        "\n",
        "    OUTPUT: \n",
        "    None\n",
        "    ''' \n",
        "    result, sentence, attention_plot = evaluate(sentence)\n",
        "\n",
        "    print('Input:\\n %s' % (sentence))\n",
        "\n",
        "    predict = ''\n",
        "    sentence_list = sentence.split(' ')\n",
        "    result_list = result.split(' ')\n",
        "\n",
        "    for i in range(len(sentence_list)-1):\n",
        "      if (result_list[i]=='space'):\n",
        "        predict += sentence_list[i]+' '\n",
        "      else:\n",
        "        predict += sentence_list[i]+result_list[i]+' '\n",
        "    print('Predicted punctuation:\\n {}'.format(predict))\n",
        "\n",
        "    attention_plot = attention_plot[:len(result.split(' ')), :len(sentence.split(' '))]\n",
        "    plot_attention(attention_plot, sentence.split(' '), result.split(' '))"
      ],
      "execution_count": 0,
      "outputs": []
    },
    {
      "cell_type": "code",
      "metadata": {
        "colab_type": "code",
        "id": "fFj-3K0Ryue_",
        "colab": {
          "base_uri": "https://localhost:8080/",
          "height": 733
        },
        "outputId": "b41ec3f3-3fe6-4b42-cf2b-a0855ea0a01b"
      },
      "source": [
        "\n",
        "sentence = 'قال تجنب الكهرباء لأنها خطره'\n",
        "\n",
        "in_seq = sentence.strip().split(' ')\n",
        "n =10\n",
        "in_sequances = [\" \".join(in_seq[i:i+n]) for i in range(0, len(in_seq), n)]\n",
        "[predict(s) for s in in_sequances]"
      ],
      "execution_count": 519,
      "outputs": [
        {
          "output_type": "stream",
          "text": [
            "Input:\n",
            " قال تجنب الكهرباء لأنها خطره <end>\n",
            "Predicted punctuation:\n",
            " قال: تجنب الكهرباء لأنها خطره \n"
          ],
          "name": "stdout"
        },
        {
          "output_type": "display_data",
          "data": {
            "image/png": "[encoded data removed]",
            "text/plain": [
              "<Figure size 720x720 with 1 Axes>"
            ]
          },
          "metadata": {
            "tags": []
          }
        },
        {
          "output_type": "execute_result",
          "data": {
            "text/plain": [
              "[None]"
            ]
          },
          "metadata": {
            "tags": []
          },
          "execution_count": 519
        }
      ]
    },
    {
      "cell_type": "code",
      "metadata": {
        "colab_type": "code",
        "id": "KUZpSxWSyufB",
        "colab": {}
      },
      "source": [
        "#save the encoder decoder\n",
        "encoder.save_weights('encoder')\n",
        "decoder.save_weights('decoder')"
      ],
      "execution_count": 0,
      "outputs": []
    },
    {
      "cell_type": "code",
      "metadata": {
        "colab_type": "code",
        "id": "8ELp47DUyufE",
        "colab": {}
      },
      "source": [
        "#save the dictionary\n",
        "import csv\n",
        "def create_csv(file, dict):\n",
        "    with open(file, 'w') as csvfile:\n",
        "        writer = csv.writer(csvfile)\n",
        "        for key in dict.keys():\n",
        "            writer.writerow([key,dict[key]])\n",
        "create_csv('idx2word_in.csv', input_tokenizer.index_word)\n",
        "create_csv('idx2word_out.csv', target_tokenizer.index_word)"
      ],
      "execution_count": 0,
      "outputs": []
    },
    {
      "cell_type": "code",
      "metadata": {
        "colab_type": "code",
        "id": "HHK_3-LXyufL",
        "colab": {}
      },
      "source": [
        ""
      ],
      "execution_count": 0,
      "outputs": []
    },
    {
      "cell_type": "code",
      "metadata": {
        "colab_type": "code",
        "id": "VN0UHFxyyufO",
        "colab": {}
      },
      "source": [
        ""
      ],
      "execution_count": 0,
      "outputs": []
    }
  ]
}